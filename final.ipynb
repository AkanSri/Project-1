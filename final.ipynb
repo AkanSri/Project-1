{
 "cells": [
  {
   "cell_type": "code",
   "execution_count": 13,
   "metadata": {},
   "outputs": [],
   "source": [
    "import requests\n",
    "import pandas as pd \n",
    "import json\n",
    "import calendar\n",
    "import hvplot.pandas\n",
    "import folium\n",
    "from folium.plugins import HeatMap\n",
    "from geopy.exc import GeocoderTimedOut\n",
    "from geopy.geocoders import Nominatim\n",
    "from bokeh.models.formatters import DatetimeTickFormatter\n",
    "formatter = DatetimeTickFormatter(months='%Y %b')\n",
    "longitude = []\n",
    "latitude = []\n",
    "def findGeocode(state):\n",
    "    try:   \n",
    "        # Specify the user_agent \n",
    "        geolocator = Nominatim(user_agent=\"group_1\")  \n",
    "        return geolocator.geocode(state)  \n",
    "    except GeocoderTimedOut:   \n",
    "        return findGeocode(state) "
   ]
  },
  {
   "cell_type": "markdown",
   "metadata": {
    "tags": []
   },
   "source": [
    "# Unemployment Data\n",
    "To get the unemployment data, we used The Bureau of Labor Statistics' (BLS) Public Data Application Programming Interface (API) which gives public access to economic data from all BLS programs. We then \"pickled\" the data and \"unpickled\" the dataframe here:"
   ]
  },
  {
   "cell_type": "code",
   "execution_count": 2,
   "metadata": {},
   "outputs": [
    {
     "data": {
      "text/html": [
       "<div>\n",
       "<style scoped>\n",
       "    .dataframe tbody tr th:only-of-type {\n",
       "        vertical-align: middle;\n",
       "    }\n",
       "\n",
       "    .dataframe tbody tr th {\n",
       "        vertical-align: top;\n",
       "    }\n",
       "\n",
       "    .dataframe thead th {\n",
       "        text-align: right;\n",
       "    }\n",
       "</style>\n",
       "<table border=\"1\" class=\"dataframe\">\n",
       "  <thead>\n",
       "    <tr style=\"text-align: right;\">\n",
       "      <th></th>\n",
       "      <th>State</th>\n",
       "      <th>Year</th>\n",
       "      <th>Month</th>\n",
       "      <th>Unemployment Rate</th>\n",
       "    </tr>\n",
       "  </thead>\n",
       "  <tbody>\n",
       "    <tr>\n",
       "      <th>4501</th>\n",
       "      <td>Alabama</td>\n",
       "      <td>2021</td>\n",
       "      <td>November</td>\n",
       "      <td>2.6</td>\n",
       "    </tr>\n",
       "    <tr>\n",
       "      <th>4515</th>\n",
       "      <td>Alabama</td>\n",
       "      <td>2020</td>\n",
       "      <td>September</td>\n",
       "      <td>6.0</td>\n",
       "    </tr>\n",
       "    <tr>\n",
       "      <th>4514</th>\n",
       "      <td>Alabama</td>\n",
       "      <td>2020</td>\n",
       "      <td>October</td>\n",
       "      <td>4.9</td>\n",
       "    </tr>\n",
       "    <tr>\n",
       "      <th>4513</th>\n",
       "      <td>Alabama</td>\n",
       "      <td>2020</td>\n",
       "      <td>November</td>\n",
       "      <td>4.4</td>\n",
       "    </tr>\n",
       "    <tr>\n",
       "      <th>4512</th>\n",
       "      <td>Alabama</td>\n",
       "      <td>2020</td>\n",
       "      <td>December</td>\n",
       "      <td>4.1</td>\n",
       "    </tr>\n",
       "    <tr>\n",
       "      <th>...</th>\n",
       "      <td>...</td>\n",
       "      <td>...</td>\n",
       "      <td>...</td>\n",
       "      <td>...</td>\n",
       "    </tr>\n",
       "    <tr>\n",
       "      <th>4466</th>\n",
       "      <td>Wyoming</td>\n",
       "      <td>2021</td>\n",
       "      <td>October</td>\n",
       "      <td>3.5</td>\n",
       "    </tr>\n",
       "    <tr>\n",
       "      <th>4467</th>\n",
       "      <td>Wyoming</td>\n",
       "      <td>2021</td>\n",
       "      <td>September</td>\n",
       "      <td>3.4</td>\n",
       "    </tr>\n",
       "    <tr>\n",
       "      <th>4468</th>\n",
       "      <td>Wyoming</td>\n",
       "      <td>2021</td>\n",
       "      <td>August</td>\n",
       "      <td>3.9</td>\n",
       "    </tr>\n",
       "    <tr>\n",
       "      <th>4470</th>\n",
       "      <td>Wyoming</td>\n",
       "      <td>2021</td>\n",
       "      <td>June</td>\n",
       "      <td>5.0</td>\n",
       "    </tr>\n",
       "    <tr>\n",
       "      <th>6299</th>\n",
       "      <td>Wyoming</td>\n",
       "      <td>2019</td>\n",
       "      <td>January</td>\n",
       "      <td>4.5</td>\n",
       "    </tr>\n",
       "  </tbody>\n",
       "</table>\n",
       "<p>6300 rows × 4 columns</p>\n",
       "</div>"
      ],
      "text/plain": [
       "        State  Year      Month  Unemployment Rate\n",
       "4501  Alabama  2021   November                2.6\n",
       "4515  Alabama  2020  September                6.0\n",
       "4514  Alabama  2020    October                4.9\n",
       "4513  Alabama  2020   November                4.4\n",
       "4512  Alabama  2020   December                4.1\n",
       "...       ...   ...        ...                ...\n",
       "4466  Wyoming  2021    October                3.5\n",
       "4467  Wyoming  2021  September                3.4\n",
       "4468  Wyoming  2021     August                3.9\n",
       "4470  Wyoming  2021       June                5.0\n",
       "6299  Wyoming  2019    January                4.5\n",
       "\n",
       "[6300 rows x 4 columns]"
      ]
     },
     "execution_count": 2,
     "metadata": {},
     "output_type": "execute_result"
    }
   ],
   "source": [
    "all_unemployment_data = pd.read_pickle(\"personal-Akanksha/pickled_unemploy_rate.pkl\")\n",
    "all_unemployment_data.sort_values('State', inplace = True)\n",
    "all_unemployment_data['Unemployment Rate'] = all_unemployment_data['Unemployment Rate'].astype(float)\n",
    "all_unemployment_data"
   ]
  },
  {
   "cell_type": "markdown",
   "metadata": {
    "jp-MarkdownHeadingCollapsed": true,
    "tags": []
   },
   "source": [
    "## Split the data by year"
   ]
  },
  {
   "cell_type": "markdown",
   "metadata": {},
   "source": [
    "### 2019 Data:"
   ]
  },
  {
   "cell_type": "code",
   "execution_count": 3,
   "metadata": {},
   "outputs": [],
   "source": [
    "unemployment_2019 = all_unemployment_data.loc[all_unemployment_data['Year']== '2019'].copy()\n",
    "unemployment_2019['Year Month'] = unemployment_2019['Year'] +' '+ unemployment_2019['Month']\n",
    "unemployment_2019 = unemployment_2019[['Year Month', 'State','Unemployment Rate']]\n",
    "unemployment_2019['Year Month'] = pd.to_datetime(unemployment_2019['Year Month'])\n",
    "unemployment_2019.set_index('Year Month')\n",
    "plot_2019 = unemployment_2019.hvplot(y='Unemployment Rate', x = 'Year Month',groupby='State', rot = 90, label='Unemployment Rates-2019', ylim = (0,10), xformatter = formatter)"
   ]
  },
  {
   "cell_type": "markdown",
   "metadata": {},
   "source": [
    "### 2020 Data:"
   ]
  },
  {
   "cell_type": "code",
   "execution_count": 4,
   "metadata": {},
   "outputs": [],
   "source": [
    "unemployment_2020 = all_unemployment_data.loc[all_unemployment_data['Year']== '2020'].copy()\n",
    "unemployment_2020['Year Month'] = unemployment_2020['Year'] +' '+ unemployment_2020['Month']\n",
    "unemployment_2020 = unemployment_2020[['Year Month', 'State','Unemployment Rate']]\n",
    "unemployment_2020['Year Month'] = pd.to_datetime(unemployment_2020['Year Month'])\n",
    "unemployment_2020.set_index('Year Month')\n",
    "plot_2020 = unemployment_2020.hvplot(y='Unemployment Rate', x = 'Year Month',groupby='State', rot = 90, label='Unemployment Rates-2020', ylim = (0,10), xformatter = formatter)"
   ]
  },
  {
   "cell_type": "markdown",
   "metadata": {},
   "source": [
    "### 2021 Data:"
   ]
  },
  {
   "cell_type": "code",
   "execution_count": 5,
   "metadata": {},
   "outputs": [],
   "source": [
    "unemployment_2021 = all_unemployment_data.loc[all_unemployment_data['Year']== '2021'].copy()\n",
    "unemployment_2021['Year Month'] = unemployment_2021['Year'] +' '+ unemployment_2021['Month']\n",
    "unemployment_2021 = unemployment_2021[['Year Month', 'State','Unemployment Rate']]\n",
    "unemployment_2021['Year Month'] = pd.to_datetime(unemployment_2021['Year Month'])\n",
    "unemployment_2021.set_index('Year Month')\n",
    "plot_2021 = unemployment_2021.hvplot(y='Unemployment Rate', x = 'Year Month',groupby='State', rot = 90, label='Unemployment Rates-2021', ylim = (0,10), xformatter = formatter)"
   ]
  },
  {
   "cell_type": "markdown",
   "metadata": {
    "tags": []
   },
   "source": [
    "## Plot all Unemployment Data"
   ]
  },
  {
   "cell_type": "code",
   "execution_count": 6,
   "metadata": {},
   "outputs": [
    {
     "data": {},
     "metadata": {},
     "output_type": "display_data"
    },
    {
     "data": {
      "application/vnd.holoviews_exec.v0+json": "",
      "text/html": [
       "<div id='1003'>\n",
       "\n",
       "\n",
       "\n",
       "\n",
       "\n",
       "  <div class=\"bk-root\" id=\"c7a31cfa-3a59-458c-825f-60bfb0edf445\" data-root-id=\"1003\"></div>\n",
       "</div>\n",
       "<script type=\"application/javascript\">(function(root) {\n",
       "  function embed_document(root) {\n",
       "    var docs_json = {\"b408e02f-7250-44af-b82c-a3c3a384071f\":{\"defs\":[{\"extends\":null,\"module\":null,\"name\":\"ReactiveHTML1\",\"overrides\":[],\"properties\":[]},{\"extends\":null,\"module\":null,\"name\":\"FlexBox1\",\"overrides\":[],\"properties\":[{\"default\":\"flex-start\",\"kind\":null,\"name\":\"align_content\"},{\"default\":\"flex-start\",\"kind\":null,\"name\":\"align_items\"},{\"default\":\"row\",\"kind\":null,\"name\":\"flex_direction\"},{\"default\":\"wrap\",\"kind\":null,\"name\":\"flex_wrap\"},{\"default\":\"flex-start\",\"kind\":null,\"name\":\"justify_content\"}]},{\"extends\":null,\"module\":null,\"name\":\"TemplateActions1\",\"overrides\":[],\"properties\":[{\"default\":0,\"kind\":null,\"name\":\"open_modal\"},{\"default\":0,\"kind\":null,\"name\":\"close_modal\"}]},{\"extends\":null,\"module\":null,\"name\":\"MaterialTemplateActions1\",\"overrides\":[],\"properties\":[{\"default\":0,\"kind\":null,\"name\":\"open_modal\"},{\"default\":0,\"kind\":null,\"name\":\"close_modal\"}]}],\"roots\":{\"references\":[{\"attributes\":{\"line_alpha\":0.2,\"line_color\":\"#e5ae38\",\"line_width\":2,\"x\":{\"field\":\"Year Month\"},\"y\":{\"field\":\"Unemployment Rate\"}},\"id\":\"1119\",\"type\":\"Line\"},{\"attributes\":{\"line_alpha\":0.1,\"line_color\":\"#30a2da\",\"line_width\":2,\"x\":{\"field\":\"Year Month\"},\"y\":{\"field\":\"Unemployment Rate\"}},\"id\":\"1051\",\"type\":\"Line\"},{\"attributes\":{\"data\":{\"Unemployment Rate\":{\"__ndarray__\":\"ZmZmZmZmEEBmZmZmZmYQQAAAAAAAABBAAAAAAAAAEEDNzMzMzMwMQM3MzMzMzAxAZmZmZmZmCkBmZmZmZmYKQGZmZmZmZgpAZmZmZmZmCkAzMzMzMzMRQDMzMzMzMxFAZmZmZmZmDkBmZmZmZmYOQJqZmZmZmQ1AmpmZmZmZDUAAAAAAAAAIQAAAAAAAAAhAMzMzMzMzB0AzMzMzMzMHQM3MzMzMzARAzczMzMzMBEDNzMzMzMwEQM3MzMzMzARA\",\"dtype\":\"float64\",\"order\":\"little\",\"shape\":[24]},\"Unemployment_Rate\":{\"__ndarray__\":\"ZmZmZmZmEEBmZmZmZmYQQAAAAAAAABBAAAAAAAAAEEDNzMzMzMwMQM3MzMzMzAxAZmZmZmZmCkBmZmZmZmYKQGZmZmZmZgpAZmZmZmZmCkAzMzMzMzMRQDMzMzMzMxFAZmZmZmZmDkBmZmZmZmYOQJqZmZmZmQ1AmpmZmZmZDUAAAAAAAAAIQAAAAAAAAAhAMzMzMzMzB0AzMzMzMzMHQM3MzMzMzARAzczMzMzMBEDNzMzMzMwEQM3MzMzMzARA\",\"dtype\":\"float64\",\"order\":\"little\",\"shape\":[24]},\"Year Month\":{\"__ndarray__\":\"AAAA57Nrd0IAAADns2t3QgAAQDmudXdCAABAOa51d0IAAEBasX53QgAAQFqxfndCAACArKuId0IAAICsq4h3QgAAAJlTkndCAAAAmVOSd0IAAEDrTZx3QgAAQOtNnHdCAADA1/Wld0IAAMDX9aV3QgAAACrwr3dCAAAAKvCvd0IAAEB86rl3QgAAQHzquXdCAADAaJLDd0IAAMBoksN3QgAAALuMzXdCAAAAu4zNd0IAAICnNNd3QgAAgKc013dC\",\"dtype\":\"float64\",\"order\":\"little\",\"shape\":[24]},\"Year_Month\":{\"__ndarray__\":\"AAAA57Nrd0IAAADns2t3QgAAQDmudXdCAABAOa51d0IAAEBasX53QgAAQFqxfndCAACArKuId0IAAICsq4h3QgAAAJlTkndCAAAAmVOSd0IAAEDrTZx3QgAAQOtNnHdCAADA1/Wld0IAAMDX9aV3QgAAACrwr3dCAAAAKvCvd0IAAEB86rl3QgAAQHzquXdCAADAaJLDd0IAAMBoksN3QgAAALuMzXdCAAAAu4zNd0IAAICnNNd3QgAAgKc013dC\",\"dtype\":\"float64\",\"order\":\"little\",\"shape\":[24]}},\"selected\":{\"id\":\"1115\"},\"selection_policy\":{\"id\":\"1133\"}},\"id\":\"1114\",\"type\":\"ColumnDataSource\"},{\"attributes\":{\"line_alpha\":0.1,\"line_color\":\"#e5ae38\",\"line_width\":2,\"x\":{\"field\":\"Year Month\"},\"y\":{\"field\":\"Unemployment Rate\"}},\"id\":\"1118\",\"type\":\"Line\"},{\"attributes\":{\"margin\":[20,20,20,20],\"min_width\":250,\"options\":[\"Alabama\",\"Alaska\",\"Arizona\",\"Arkansas\",\"California\",\"Colorado\",\"Connecticut\",\"Delaware\",\"Florida\",\"Georgia\",\"Hawaii\",\"Idaho\",\"Illinois\",\"Indiana\",\"Iowa\",\"Kansas\",\"Kentucky\",\"Louisiana\",\"Maine\",\"Maryland\",\"Massachusetts\",\"Michigan\",\"Minnesota\",\"Mississippi\",\"Missouri\",\"Montana\",\"Nebraska\",\"Nevada\",\"New Hampshire\",\"New Jersey\",\"New Mexico\",\"New York\",\"North Carolina\",\"North Dakota\",\"Ohio\",\"Oklahoma\",\"Oregon\",\"Pennsylvania\",\"Rhode Island\",\"South Carolina\",\"South Dakota\",\"Tennessee\",\"Texas\",\"Utah\",\"Vermont\",\"Virginia\",\"Washington\",\"West Virginia\",\"Wisconsin\",\"Wyoming\"],\"title\":\"State\",\"value\":\"Alabama\",\"width\":250},\"id\":\"1395\",\"type\":\"Select\"},{\"attributes\":{},\"id\":\"1133\",\"type\":\"UnionRenderers\"},{\"attributes\":{\"base\":24,\"mantissas\":[1,2,4,6,8,12],\"max_interval\":43200000.0,\"min_interval\":3600000.0,\"num_minor_ticks\":0},\"id\":\"1067\",\"type\":\"AdaptiveTicker\"},{\"attributes\":{\"coordinates\":null,\"data_source\":{\"id\":\"1114\"},\"glyph\":{\"id\":\"1117\"},\"group\":null,\"hover_glyph\":null,\"muted_glyph\":{\"id\":\"1119\"},\"nonselection_glyph\":{\"id\":\"1118\"},\"selection_glyph\":{\"id\":\"1149\"},\"view\":{\"id\":\"1121\"}},\"id\":\"1120\",\"type\":\"GlyphRenderer\"},{\"attributes\":{\"margin\":[5,5,5,5],\"name\":\"VSpacer01639\",\"sizing_mode\":\"stretch_height\"},\"id\":\"1396\",\"type\":\"Spacer\"},{\"attributes\":{\"base\":60,\"mantissas\":[1,2,5,10,15,20,30],\"max_interval\":1800000.0,\"min_interval\":1000.0,\"num_minor_ticks\":0},\"id\":\"1066\",\"type\":\"AdaptiveTicker\"},{\"attributes\":{\"children\":[{\"id\":\"1004\"},{\"id\":\"1010\"},{\"id\":\"1391\"},{\"id\":\"1392\"}],\"margin\":[0,0,0,0],\"name\":\"Row01632\"},\"id\":\"1003\",\"type\":\"Row\"},{\"attributes\":{\"source\":{\"id\":\"1114\"}},\"id\":\"1121\",\"type\":\"CDSView\"},{\"attributes\":{\"line_alpha\":0.2,\"line_color\":\"#30a2da\",\"line_width\":2,\"x\":{\"field\":\"Year Month\"},\"y\":{\"field\":\"Unemployment Rate\"}},\"id\":\"1052\",\"type\":\"Line\"},{\"attributes\":{},\"id\":\"1062\",\"type\":\"UnionRenderers\"},{\"attributes\":{\"days\":[1,2,3,4,5,6,7,8,9,10,11,12,13,14,15,16,17,18,19,20,21,22,23,24,25,26,27,28,29,30,31]},\"id\":\"1068\",\"type\":\"DaysTicker\"},{\"attributes\":{},\"id\":\"1024\",\"type\":\"BasicTicker\"},{\"attributes\":{\"below\":[{\"id\":\"1019\"},{\"id\":\"1077\"}],\"center\":[{\"id\":\"1022\"},{\"id\":\"1026\"}],\"frame_height\":200,\"height\":null,\"left\":[{\"id\":\"1023\"}],\"margin\":[5,5,5,5],\"min_border_bottom\":10,\"min_border_left\":10,\"min_border_right\":10,\"min_border_top\":10,\"renderers\":[{\"id\":\"1053\"},{\"id\":\"1086\"},{\"id\":\"1120\"}],\"sizing_mode\":\"fixed\",\"title\":{\"id\":\"1011\"},\"toolbar\":{\"id\":\"1033\"},\"width\":700,\"x_range\":{\"id\":\"1005\"},\"x_scale\":{\"id\":\"1015\"},\"y_range\":{\"id\":\"1006\"},\"y_scale\":{\"id\":\"1017\"}},\"id\":\"1010\",\"subtype\":\"Figure\",\"type\":\"Plot\"},{\"attributes\":{\"days\":[1,4,7,10,13,16,19,22,25,28]},\"id\":\"1069\",\"type\":\"DaysTicker\"},{\"attributes\":{\"days\":[1,8,15,22]},\"id\":\"1070\",\"type\":\"DaysTicker\"},{\"attributes\":{\"num_minor_ticks\":5,\"tickers\":[{\"id\":\"1065\"},{\"id\":\"1066\"},{\"id\":\"1067\"},{\"id\":\"1068\"},{\"id\":\"1069\"},{\"id\":\"1070\"},{\"id\":\"1071\"},{\"id\":\"1072\"},{\"id\":\"1073\"},{\"id\":\"1074\"},{\"id\":\"1075\"},{\"id\":\"1076\"}]},\"id\":\"1020\",\"type\":\"DatetimeTicker\"},{\"attributes\":{\"source\":{\"id\":\"1047\"}},\"id\":\"1054\",\"type\":\"CDSView\"},{\"attributes\":{\"days\":[1,15]},\"id\":\"1071\",\"type\":\"DaysTicker\"},{\"attributes\":{\"months\":[0,1,2,3,4,5,6,7,8,9,10,11]},\"id\":\"1072\",\"type\":\"MonthsTicker\"},{\"attributes\":{\"axis_label\":\"Unemployment Rate\",\"coordinates\":null,\"formatter\":{\"id\":\"1045\"},\"group\":null,\"major_label_policy\":{\"id\":\"1046\"},\"ticker\":{\"id\":\"1024\"}},\"id\":\"1023\",\"type\":\"LinearAxis\"},{\"attributes\":{},\"id\":\"1046\",\"type\":\"AllLabels\"},{\"attributes\":{\"months\":[0,2,4,6,8,10]},\"id\":\"1073\",\"type\":\"MonthsTicker\"},{\"attributes\":{\"coordinates\":null,\"group\":null,\"text\":\"Unemployment Rates 2019-2021 by State\",\"text_color\":\"black\",\"text_font_size\":\"12pt\"},\"id\":\"1011\",\"type\":\"Title\"},{\"attributes\":{\"axis_label\":\"Year Month\",\"coordinates\":null,\"formatter\":{\"id\":\"1041\"},\"group\":null,\"major_label_orientation\":1.5707963267948966,\"major_label_policy\":{\"id\":\"1042\"},\"ticker\":{\"id\":\"1020\"}},\"id\":\"1019\",\"type\":\"DatetimeAxis\"},{\"attributes\":{\"months\":[0,4,8]},\"id\":\"1074\",\"type\":\"MonthsTicker\"},{\"attributes\":{\"axis\":{\"id\":\"1019\"},\"coordinates\":null,\"grid_line_color\":null,\"group\":null,\"ticker\":null},\"id\":\"1022\",\"type\":\"Grid\"},{\"attributes\":{},\"id\":\"1017\",\"type\":\"LinearScale\"},{\"attributes\":{\"months\":[0,6]},\"id\":\"1075\",\"type\":\"MonthsTicker\"},{\"attributes\":{},\"id\":\"1081\",\"type\":\"Selection\"},{\"attributes\":{},\"id\":\"1015\",\"type\":\"LinearScale\"},{\"attributes\":{},\"id\":\"1076\",\"type\":\"YearsTicker\"},{\"attributes\":{\"margin\":[5,5,5,5],\"name\":\"HSpacer01642\",\"sizing_mode\":\"stretch_width\"},\"id\":\"1391\",\"type\":\"Spacer\"},{\"attributes\":{\"margin\":[5,5,5,5],\"name\":\"HSpacer01641\",\"sizing_mode\":\"stretch_width\"},\"id\":\"1004\",\"type\":\"Spacer\"},{\"attributes\":{\"line_alpha\":0.2,\"line_color\":\"#fc4f30\",\"line_width\":2,\"x\":{\"field\":\"Year Month\"},\"y\":{\"field\":\"Unemployment Rate\"}},\"id\":\"1085\",\"type\":\"Line\"},{\"attributes\":{\"children\":[{\"id\":\"1393\"},{\"id\":\"1394\"},{\"id\":\"1396\"}],\"margin\":[0,0,0,0],\"name\":\"Column01640\"},\"id\":\"1392\",\"type\":\"Column\"},{\"attributes\":{\"axis\":{\"id\":\"1023\"},\"coordinates\":null,\"dimension\":1,\"grid_line_color\":null,\"group\":null,\"ticker\":null},\"id\":\"1026\",\"type\":\"Grid\"},{\"attributes\":{\"source\":{\"id\":\"1080\"}},\"id\":\"1087\",\"type\":\"CDSView\"},{\"attributes\":{\"mantissas\":[1,2,5],\"max_interval\":500.0,\"num_minor_ticks\":0},\"id\":\"1065\",\"type\":\"AdaptiveTicker\"},{\"attributes\":{\"line_color\":\"#30a2da\",\"line_width\":2,\"x\":{\"field\":\"Year Month\"},\"y\":{\"field\":\"Unemployment Rate\"}},\"id\":\"1079\",\"type\":\"Line\"},{\"attributes\":{\"label\":{\"value\":\"Unemployment Rates-2021\"},\"renderers\":[{\"id\":\"1120\"}]},\"id\":\"1148\",\"type\":\"LegendItem\"},{\"attributes\":{},\"id\":\"1097\",\"type\":\"UnionRenderers\"},{\"attributes\":{\"tools\":[{\"id\":\"1007\"},{\"id\":\"1027\"},{\"id\":\"1028\"},{\"id\":\"1029\"},{\"id\":\"1030\"},{\"id\":\"1031\"}]},\"id\":\"1033\",\"type\":\"Toolbar\"},{\"attributes\":{},\"id\":\"1027\",\"type\":\"SaveTool\"},{\"attributes\":{},\"id\":\"1048\",\"type\":\"Selection\"},{\"attributes\":{\"children\":[{\"id\":\"1395\"}],\"css_classes\":[\"panel-widget-box\"],\"margin\":[5,5,5,5],\"name\":\"WidgetBox01633\"},\"id\":\"1394\",\"type\":\"Column\"},{\"attributes\":{},\"id\":\"1028\",\"type\":\"PanTool\"},{\"attributes\":{},\"id\":\"1029\",\"type\":\"WheelZoomTool\"},{\"attributes\":{\"overlay\":{\"id\":\"1032\"}},\"id\":\"1030\",\"type\":\"BoxZoomTool\"},{\"attributes\":{\"coordinates\":null,\"data_source\":{\"id\":\"1080\"},\"glyph\":{\"id\":\"1083\"},\"group\":null,\"hover_glyph\":null,\"muted_glyph\":{\"id\":\"1085\"},\"nonselection_glyph\":{\"id\":\"1084\"},\"selection_glyph\":{\"id\":\"1113\"},\"view\":{\"id\":\"1087\"}},\"id\":\"1086\",\"type\":\"GlyphRenderer\"},{\"attributes\":{\"click_policy\":\"mute\",\"coordinates\":null,\"group\":null,\"items\":[{\"id\":\"1078\"},{\"id\":\"1112\"},{\"id\":\"1148\"}],\"location\":[0,0],\"orientation\":\"horizontal\"},\"id\":\"1077\",\"type\":\"Legend\"},{\"attributes\":{\"data\":{\"Unemployment Rate\":{\"__ndarray__\":\"mpmZmZmZEUCamZmZmZkRQGZmZmZmZg5AZmZmZmZmDkDNzMzMzMwMQM3MzMzMzAxAZmZmZmZmBkBmZmZmZmYGQM3MzMzMzARAzczMzMzMBEAzMzMzMzMLQDMzMzMzMwtAZmZmZmZmCkBmZmZmZmYKQJqZmZmZmQlAmpmZmZmZCUBmZmZmZmYGQGZmZmZmZgZAmpmZmZmZBUCamZmZmZkFQJqZmZmZmQVAmpmZmZmZBUBmZmZmZmYGQGZmZmZmZgZA\",\"dtype\":\"float64\",\"order\":\"little\",\"shape\":[24]},\"Unemployment_Rate\":{\"__ndarray__\":\"mpmZmZmZEUCamZmZmZkRQGZmZmZmZg5AZmZmZmZmDkDNzMzMzMwMQM3MzMzMzAxAZmZmZmZmBkBmZmZmZmYGQM3MzMzMzARAzczMzMzMBEAzMzMzMzMLQDMzMzMzMwtAZmZmZmZmCkBmZmZmZmYKQJqZmZmZmQlAmpmZmZmZCUBmZmZmZmYGQGZmZmZmZgZAmpmZmZmZBUCamZmZmZkFQJqZmZmZmQVAmpmZmZmZBUBmZmZmZmYGQGZmZmZmZgZA\",\"dtype\":\"float64\",\"order\":\"little\",\"shape\":[24]},\"Year Month\":{\"__ndarray__\":\"AADAW2uAdkIAAMBba4B2QgAAAK5linZCAAAArmWKdkIAAADPaJN2QgAAAM9ok3ZCAABAIWOddkIAAEAhY512QgAAwA0Lp3ZCAADADQundkIAAABgBbF2QgAAAGAFsXZCAACATK26dkIAAIBMrbp2QgAAwJ6nxHZCAADAnqfEdkIAAADxoc52QgAAAPGhznZCAACA3UnYdkIAAIDdSdh2QgAAwC9E4nZCAADAL0TidkIAAEAc7Ot2QgAAQBzs63ZC\",\"dtype\":\"float64\",\"order\":\"little\",\"shape\":[24]},\"Year_Month\":{\"__ndarray__\":\"AADAW2uAdkIAAMBba4B2QgAAAK5linZCAAAArmWKdkIAAADPaJN2QgAAAM9ok3ZCAABAIWOddkIAAEAhY512QgAAwA0Lp3ZCAADADQundkIAAABgBbF2QgAAAGAFsXZCAACATK26dkIAAIBMrbp2QgAAwJ6nxHZCAADAnqfEdkIAAADxoc52QgAAAPGhznZCAACA3UnYdkIAAIDdSdh2QgAAwC9E4nZCAADAL0TidkIAAEAc7Ot2QgAAQBzs63ZC\",\"dtype\":\"float64\",\"order\":\"little\",\"shape\":[24]}},\"selected\":{\"id\":\"1048\"},\"selection_policy\":{\"id\":\"1062\"}},\"id\":\"1047\",\"type\":\"ColumnDataSource\"},{\"attributes\":{\"line_alpha\":0.1,\"line_color\":\"#fc4f30\",\"line_width\":2,\"x\":{\"field\":\"Year Month\"},\"y\":{\"field\":\"Unemployment Rate\"}},\"id\":\"1084\",\"type\":\"Line\"},{\"attributes\":{\"callback\":null,\"formatters\":{\"@{Year Month}\":\"datetime\",\"@{Year_Month}\":\"datetime\"},\"renderers\":[{\"id\":\"1053\"},{\"id\":\"1086\"},{\"id\":\"1120\"}],\"tags\":[\"hv_created\"],\"tooltips\":[[\"Year Month\",\"@{Year_Month}{%F %T}\"],[\"Unemployment Rate\",\"@{Unemployment_Rate}\"]]},\"id\":\"1007\",\"type\":\"HoverTool\"},{\"attributes\":{},\"id\":\"1031\",\"type\":\"ResetTool\"},{\"attributes\":{\"label\":{\"value\":\"Unemployment Rates-2020\"},\"renderers\":[{\"id\":\"1086\"}]},\"id\":\"1112\",\"type\":\"LegendItem\"},{\"attributes\":{\"margin\":[5,5,5,5],\"name\":\"VSpacer01638\",\"sizing_mode\":\"stretch_height\"},\"id\":\"1393\",\"type\":\"Spacer\"},{\"attributes\":{\"line_color\":\"#fc4f30\",\"line_width\":2,\"x\":{\"field\":\"Year Month\"},\"y\":{\"field\":\"Unemployment Rate\"}},\"id\":\"1083\",\"type\":\"Line\"},{\"attributes\":{\"bottom_units\":\"screen\",\"coordinates\":null,\"fill_alpha\":0.5,\"fill_color\":\"lightgrey\",\"group\":null,\"left_units\":\"screen\",\"level\":\"overlay\",\"line_alpha\":1.0,\"line_color\":\"black\",\"line_dash\":[4,4],\"line_width\":2,\"right_units\":\"screen\",\"syncable\":false,\"top_units\":\"screen\"},\"id\":\"1032\",\"type\":\"BoxAnnotation\"},{\"attributes\":{\"coordinates\":null,\"data_source\":{\"id\":\"1047\"},\"glyph\":{\"id\":\"1050\"},\"group\":null,\"hover_glyph\":null,\"muted_glyph\":{\"id\":\"1052\"},\"nonselection_glyph\":{\"id\":\"1051\"},\"selection_glyph\":{\"id\":\"1079\"},\"view\":{\"id\":\"1054\"}},\"id\":\"1053\",\"type\":\"GlyphRenderer\"},{\"attributes\":{\"end\":1638316800000.0,\"reset_end\":1638316800000.0,\"reset_start\":1546300800000.0,\"start\":1546300800000.0,\"tags\":[[[\"Year Month\",\"Year Month\",null]]]},\"id\":\"1005\",\"type\":\"Range1d\"},{\"attributes\":{},\"id\":\"1045\",\"type\":\"BasicTickFormatter\"},{\"attributes\":{},\"id\":\"1115\",\"type\":\"Selection\"},{\"attributes\":{\"end\":20,\"reset_end\":20,\"reset_start\":1,\"start\":1,\"tags\":[[[\"Unemployment Rate\",\"Unemployment Rate\",null]]]},\"id\":\"1006\",\"type\":\"Range1d\"},{\"attributes\":{\"line_color\":\"#fc4f30\",\"line_width\":2,\"x\":{\"field\":\"Year Month\"},\"y\":{\"field\":\"Unemployment Rate\"}},\"id\":\"1113\",\"type\":\"Line\"},{\"attributes\":{},\"id\":\"1042\",\"type\":\"AllLabels\"},{\"attributes\":{\"client_comm_id\":\"4b8ce0d8a8d049a893441901bef833e4\",\"comm_id\":\"93ec1cee9f594678be20c7ca08b37640\",\"plot_id\":\"1003\"},\"id\":\"1475\",\"type\":\"panel.models.comm_manager.CommManager\"},{\"attributes\":{\"line_color\":\"#30a2da\",\"line_width\":2,\"x\":{\"field\":\"Year Month\"},\"y\":{\"field\":\"Unemployment Rate\"}},\"id\":\"1050\",\"type\":\"Line\"},{\"attributes\":{\"line_color\":\"#e5ae38\",\"line_width\":2,\"x\":{\"field\":\"Year Month\"},\"y\":{\"field\":\"Unemployment Rate\"}},\"id\":\"1149\",\"type\":\"Line\"},{\"attributes\":{\"label\":{\"value\":\"Unemployment Rates-2019\"},\"renderers\":[{\"id\":\"1053\"}]},\"id\":\"1078\",\"type\":\"LegendItem\"},{\"attributes\":{\"months\":[\"%Y %b\"]},\"id\":\"1041\",\"type\":\"DatetimeTickFormatter\"},{\"attributes\":{\"line_color\":\"#e5ae38\",\"line_width\":2,\"x\":{\"field\":\"Year Month\"},\"y\":{\"field\":\"Unemployment Rate\"}},\"id\":\"1117\",\"type\":\"Line\"},{\"attributes\":{\"data\":{\"Unemployment Rate\":{\"__ndarray__\":\"mpmZmZmZDUCamZmZmZkNQDMzMzMzMwtAMzMzMzMzC0AAAAAAAAAQQAAAAAAAABBAAAAAAAAAKkAAAAAAAAAqQGZmZmZmZiRAZmZmZmZmJEBmZmZmZmYiQGZmZmZmZiJAzczMzMzMIEDNzMzMzMwgQM3MzMzMzBpAzczMzMzMGkAAAAAAAAAYQAAAAAAAABhAmpmZmZmZE0CamZmZmZkTQJqZmZmZmRFAmpmZmZmZEUBmZmZmZmYQQGZmZmZmZhBA\",\"dtype\":\"float64\",\"order\":\"little\",\"shape\":[24]},\"Unemployment_Rate\":{\"__ndarray__\":\"mpmZmZmZDUCamZmZmZkNQDMzMzMzMwtAMzMzMzMzC0AAAAAAAAAQQAAAAAAAABBAAAAAAAAAKkAAAAAAAAAqQGZmZmZmZiRAZmZmZmZmJEBmZmZmZmYiQGZmZmZmZiJAzczMzMzMIEDNzMzMzMwgQM3MzMzMzBpAzczMzMzMGkAAAAAAAAAYQAAAAAAAABhAmpmZmZmZE0CamZmZmZkTQJqZmZmZmRFAmpmZmZmZEUBmZmZmZmYQQGZmZmZmZhBA\",\"dtype\":\"float64\",\"order\":\"little\",\"shape\":[24]},\"Year Month\":{\"__ndarray__\":\"AACAbub1dkIAAIBu5vV2QgAAwMDg/3ZCAADAwOD/dkIAAIBHNgl3QgAAgEc2CXdCAADAmTATd0IAAMCZMBN3QgAAQIbYHHdCAABAhtgcd0IAAIDY0iZ3QgAAgNjSJndCAAAAxXowd0IAAADFejB3QgAAQBd1OndCAABAF3U6d0IAAIBpb0R3QgAAgGlvRHdCAAAAVhdOd0IAAABWF053QgAAQKgRWHdCAABAqBFYd0IAAMCUuWF3QgAAwJS5YXdC\",\"dtype\":\"float64\",\"order\":\"little\",\"shape\":[24]},\"Year_Month\":{\"__ndarray__\":\"AACAbub1dkIAAIBu5vV2QgAAwMDg/3ZCAADAwOD/dkIAAIBHNgl3QgAAgEc2CXdCAADAmTATd0IAAMCZMBN3QgAAQIbYHHdCAABAhtgcd0IAAIDY0iZ3QgAAgNjSJndCAAAAxXowd0IAAADFejB3QgAAQBd1OndCAABAF3U6d0IAAIBpb0R3QgAAgGlvRHdCAAAAVhdOd0IAAABWF053QgAAQKgRWHdCAABAqBFYd0IAAMCUuWF3QgAAwJS5YXdC\",\"dtype\":\"float64\",\"order\":\"little\",\"shape\":[24]}},\"selected\":{\"id\":\"1081\"},\"selection_policy\":{\"id\":\"1097\"}},\"id\":\"1080\",\"type\":\"ColumnDataSource\"}],\"root_ids\":[\"1003\",\"1475\"]},\"title\":\"Bokeh Application\",\"version\":\"2.4.2\"}};\n",
       "    var render_items = [{\"docid\":\"b408e02f-7250-44af-b82c-a3c3a384071f\",\"root_ids\":[\"1003\"],\"roots\":{\"1003\":\"c7a31cfa-3a59-458c-825f-60bfb0edf445\"}}];\n",
       "    root.Bokeh.embed.embed_items_notebook(docs_json, render_items);\n",
       "  }\n",
       "  if (root.Bokeh !== undefined && root.Bokeh.Panel !== undefined) {\n",
       "    embed_document(root);\n",
       "  } else {\n",
       "    var attempts = 0;\n",
       "    var timer = setInterval(function(root) {\n",
       "      if (root.Bokeh !== undefined && root.Bokeh.Panel !== undefined) {\n",
       "        clearInterval(timer);\n",
       "        embed_document(root);\n",
       "      } else if (document.readyState == \"complete\") {\n",
       "        attempts++;\n",
       "        if (attempts > 200) {\n",
       "          clearInterval(timer);\n",
       "          console.log(\"Bokeh: ERROR: Unable to run BokehJS code because BokehJS library is missing\");\n",
       "        }\n",
       "      }\n",
       "    }, 25, root)\n",
       "  }\n",
       "})(window);</script>"
      ],
      "text/plain": [
       ":DynamicMap   [State]\n",
       "   :Overlay\n",
       "      .Curve.Unemployment_Rates_hyphen_minus_2019 :Curve   [Year Month]   (Unemployment Rate)\n",
       "      .Curve.Unemployment_Rates_hyphen_minus_2020 :Curve   [Year Month]   (Unemployment Rate)\n",
       "      .Curve.Unemployment_Rates_hyphen_minus_2021 :Curve   [Year Month]   (Unemployment Rate)"
      ]
     },
     "execution_count": 6,
     "metadata": {
      "application/vnd.holoviews_exec.v0+json": {
       "id": "1003"
      }
     },
     "output_type": "execute_result"
    }
   ],
   "source": [
    "plot_all_year_unemployment= plot_2019*plot_2020*plot_2021\n",
    "plot_all_year_unemployment.opts(title='Unemployment Rates 2019-2021 by State', legend_position='bottom',frame_height = 200, ylim=(1,20))"
   ]
  },
  {
   "cell_type": "markdown",
   "metadata": {
    "tags": []
   },
   "source": [
    "# Location Data\n",
    "We used geopy to get the Longitude and Latitude for each state"
   ]
  },
  {
   "cell_type": "code",
   "execution_count": 7,
   "metadata": {},
   "outputs": [
    {
     "data": {
      "text/plain": [
       "array(['Alabama', 'Alaska', 'Arizona', 'Arkansas', 'California',\n",
       "       'Colorado', 'Connecticut', 'Delaware', 'Florida', 'Georgia',\n",
       "       'Hawaii', 'Idaho', 'Illinois', 'Indiana', 'Iowa', 'Kansas',\n",
       "       'Kentucky', 'Louisiana', 'Maine', 'Maryland', 'Massachusetts',\n",
       "       'Michigan', 'Minnesota', 'Mississippi', 'Missouri', 'Montana',\n",
       "       'Nebraska', 'Nevada', 'New Hampshire', 'New Jersey', 'New Mexico',\n",
       "       'New York', 'North Carolina', 'North Dakota', 'Ohio', 'Oklahoma',\n",
       "       'Oregon', 'Pennsylvania', 'Rhode Island', 'South Carolina',\n",
       "       'South Dakota', 'Tennessee', 'Texas', 'Utah', 'Vermont',\n",
       "       'Virginia', 'Washington', 'West Virginia', 'Wisconsin', 'Wyoming'],\n",
       "      dtype=object)"
      ]
     },
     "execution_count": 7,
     "metadata": {},
     "output_type": "execute_result"
    }
   ],
   "source": [
    "states = all_unemployment_data['State'].unique()\n",
    "states"
   ]
  },
  {
   "cell_type": "code",
   "execution_count": 8,
   "metadata": {},
   "outputs": [
    {
     "data": {
      "text/html": [
       "<div>\n",
       "<style scoped>\n",
       "    .dataframe tbody tr th:only-of-type {\n",
       "        vertical-align: middle;\n",
       "    }\n",
       "\n",
       "    .dataframe tbody tr th {\n",
       "        vertical-align: top;\n",
       "    }\n",
       "\n",
       "    .dataframe thead th {\n",
       "        text-align: right;\n",
       "    }\n",
       "</style>\n",
       "<table border=\"1\" class=\"dataframe\">\n",
       "  <thead>\n",
       "    <tr style=\"text-align: right;\">\n",
       "      <th></th>\n",
       "      <th>State</th>\n",
       "      <th>Latitude</th>\n",
       "      <th>Longitude</th>\n",
       "    </tr>\n",
       "  </thead>\n",
       "  <tbody>\n",
       "    <tr>\n",
       "      <th>0</th>\n",
       "      <td>Alabama</td>\n",
       "      <td>33.258882</td>\n",
       "      <td>-86.829534</td>\n",
       "    </tr>\n",
       "    <tr>\n",
       "      <th>1</th>\n",
       "      <td>Alaska</td>\n",
       "      <td>64.445961</td>\n",
       "      <td>-149.680909</td>\n",
       "    </tr>\n",
       "    <tr>\n",
       "      <th>2</th>\n",
       "      <td>Arizona</td>\n",
       "      <td>34.395342</td>\n",
       "      <td>-111.763275</td>\n",
       "    </tr>\n",
       "    <tr>\n",
       "      <th>3</th>\n",
       "      <td>Arkansas</td>\n",
       "      <td>35.204888</td>\n",
       "      <td>-92.447911</td>\n",
       "    </tr>\n",
       "    <tr>\n",
       "      <th>4</th>\n",
       "      <td>California</td>\n",
       "      <td>36.701463</td>\n",
       "      <td>-118.755997</td>\n",
       "    </tr>\n",
       "  </tbody>\n",
       "</table>\n",
       "</div>"
      ],
      "text/plain": [
       "        State   Latitude   Longitude\n",
       "0     Alabama  33.258882  -86.829534\n",
       "1      Alaska  64.445961 -149.680909\n",
       "2     Arizona  34.395342 -111.763275\n",
       "3    Arkansas  35.204888  -92.447911\n",
       "4  California  36.701463 -118.755997"
      ]
     },
     "execution_count": 8,
     "metadata": {},
     "output_type": "execute_result"
    }
   ],
   "source": [
    "for i in states:\n",
    "    if findGeocode(i) != None:     \n",
    "        loc = findGeocode(i)\n",
    "        if loc.latitude not in latitude:\n",
    "            latitude.append(loc.latitude)\n",
    "        if loc.longitude not in longitude:\n",
    "            longitude.append(loc.longitude)\n",
    "    else:\n",
    "        latitude.append('')\n",
    "        longitude.append('')\n",
    "\n",
    "df_location = pd.DataFrame(columns=['State'])\n",
    "df_location['State'] = states\n",
    "df_location['Latitude'] = latitude\n",
    "df_location['Longitude'] = longitude\n",
    "df_location.head()"
   ]
  },
  {
   "cell_type": "markdown",
   "metadata": {},
   "source": [
    "# Combine Unemployment Rates with Location\n",
    "We then had to groupby each state and find the average Unemployment rate for each year. Then we combined that with the location coordinates and plotted them."
   ]
  },
  {
   "cell_type": "markdown",
   "metadata": {},
   "source": [
    "## 2019:"
   ]
  },
  {
   "cell_type": "code",
   "execution_count": 9,
   "metadata": {},
   "outputs": [
    {
     "data": {
      "text/html": [
       "<div>\n",
       "<style scoped>\n",
       "    .dataframe tbody tr th:only-of-type {\n",
       "        vertical-align: middle;\n",
       "    }\n",
       "\n",
       "    .dataframe tbody tr th {\n",
       "        vertical-align: top;\n",
       "    }\n",
       "\n",
       "    .dataframe thead th {\n",
       "        text-align: right;\n",
       "    }\n",
       "</style>\n",
       "<table border=\"1\" class=\"dataframe\">\n",
       "  <thead>\n",
       "    <tr style=\"text-align: right;\">\n",
       "      <th></th>\n",
       "      <th>State</th>\n",
       "      <th>Unemployment Rate</th>\n",
       "    </tr>\n",
       "  </thead>\n",
       "  <tbody>\n",
       "    <tr>\n",
       "      <th>0</th>\n",
       "      <td>Alabama</td>\n",
       "      <td>3.175000</td>\n",
       "    </tr>\n",
       "    <tr>\n",
       "      <th>1</th>\n",
       "      <td>Alaska</td>\n",
       "      <td>5.475000</td>\n",
       "    </tr>\n",
       "    <tr>\n",
       "      <th>2</th>\n",
       "      <td>Arizona</td>\n",
       "      <td>4.841667</td>\n",
       "    </tr>\n",
       "    <tr>\n",
       "      <th>3</th>\n",
       "      <td>Arkansas</td>\n",
       "      <td>3.466667</td>\n",
       "    </tr>\n",
       "    <tr>\n",
       "      <th>4</th>\n",
       "      <td>California</td>\n",
       "      <td>4.108333</td>\n",
       "    </tr>\n",
       "  </tbody>\n",
       "</table>\n",
       "</div>"
      ],
      "text/plain": [
       "        State  Unemployment Rate\n",
       "0     Alabama           3.175000\n",
       "1      Alaska           5.475000\n",
       "2     Arizona           4.841667\n",
       "3    Arkansas           3.466667\n",
       "4  California           4.108333"
      ]
     },
     "execution_count": 9,
     "metadata": {},
     "output_type": "execute_result"
    }
   ],
   "source": [
    "unemploy_by_state_2019 = unemployment_2019.groupby('State').mean()\n",
    "unemploy_by_state_2019 = unemploy_by_state_2019.reset_index()\n",
    "unemploy_by_state_2019.head()"
   ]
  },
  {
   "cell_type": "code",
   "execution_count": 10,
   "metadata": {},
   "outputs": [
    {
     "data": {
      "text/html": [
       "<div>\n",
       "<style scoped>\n",
       "    .dataframe tbody tr th:only-of-type {\n",
       "        vertical-align: middle;\n",
       "    }\n",
       "\n",
       "    .dataframe tbody tr th {\n",
       "        vertical-align: top;\n",
       "    }\n",
       "\n",
       "    .dataframe thead th {\n",
       "        text-align: right;\n",
       "    }\n",
       "</style>\n",
       "<table border=\"1\" class=\"dataframe\">\n",
       "  <thead>\n",
       "    <tr style=\"text-align: right;\">\n",
       "      <th></th>\n",
       "      <th>State</th>\n",
       "      <th>Unemployment Rate</th>\n",
       "      <th>Latitude</th>\n",
       "      <th>Longitude</th>\n",
       "    </tr>\n",
       "  </thead>\n",
       "  <tbody>\n",
       "    <tr>\n",
       "      <th>0</th>\n",
       "      <td>Alabama</td>\n",
       "      <td>3.175000</td>\n",
       "      <td>33.258882</td>\n",
       "      <td>-86.829534</td>\n",
       "    </tr>\n",
       "    <tr>\n",
       "      <th>1</th>\n",
       "      <td>Alaska</td>\n",
       "      <td>5.475000</td>\n",
       "      <td>64.445961</td>\n",
       "      <td>-149.680909</td>\n",
       "    </tr>\n",
       "    <tr>\n",
       "      <th>2</th>\n",
       "      <td>Arizona</td>\n",
       "      <td>4.841667</td>\n",
       "      <td>34.395342</td>\n",
       "      <td>-111.763275</td>\n",
       "    </tr>\n",
       "    <tr>\n",
       "      <th>3</th>\n",
       "      <td>Arkansas</td>\n",
       "      <td>3.466667</td>\n",
       "      <td>35.204888</td>\n",
       "      <td>-92.447911</td>\n",
       "    </tr>\n",
       "    <tr>\n",
       "      <th>4</th>\n",
       "      <td>California</td>\n",
       "      <td>4.108333</td>\n",
       "      <td>36.701463</td>\n",
       "      <td>-118.755997</td>\n",
       "    </tr>\n",
       "  </tbody>\n",
       "</table>\n",
       "</div>"
      ],
      "text/plain": [
       "        State  Unemployment Rate   Latitude   Longitude\n",
       "0     Alabama           3.175000  33.258882  -86.829534\n",
       "1      Alaska           5.475000  64.445961 -149.680909\n",
       "2     Arizona           4.841667  34.395342 -111.763275\n",
       "3    Arkansas           3.466667  35.204888  -92.447911\n",
       "4  California           4.108333  36.701463 -118.755997"
      ]
     },
     "execution_count": 10,
     "metadata": {},
     "output_type": "execute_result"
    }
   ],
   "source": [
    "coordinates = pd.concat([unemploy_by_state_2019,df_location],axis = 'columns', join='inner')\n",
    "coordinates = coordinates.T.drop_duplicates().T\n",
    "coordinates['Unemployment Rate'] = coordinates['Unemployment Rate'].astype(float)\n",
    "coordinates.head()"
   ]
  },
  {
   "cell_type": "code",
   "execution_count": 11,
   "metadata": {},
   "outputs": [
    {
     "data": {},
     "metadata": {},
     "output_type": "display_data"
    },
    {
     "data": {
      "application/vnd.holoviews_exec.v0+json": "",
      "text/html": [
       "<div id='1608'>\n",
       "\n",
       "\n",
       "\n",
       "\n",
       "\n",
       "  <div class=\"bk-root\" id=\"ee29839f-b5ca-4565-856d-cb1c071d293e\" data-root-id=\"1608\"></div>\n",
       "</div>\n",
       "<script type=\"application/javascript\">(function(root) {\n",
       "  function embed_document(root) {\n",
       "    var docs_json = {\"244c0e6e-1ac1-443c-b599-0135a4476440\":{\"defs\":[{\"extends\":null,\"module\":null,\"name\":\"ReactiveHTML1\",\"overrides\":[],\"properties\":[]},{\"extends\":null,\"module\":null,\"name\":\"FlexBox1\",\"overrides\":[],\"properties\":[{\"default\":\"flex-start\",\"kind\":null,\"name\":\"align_content\"},{\"default\":\"flex-start\",\"kind\":null,\"name\":\"align_items\"},{\"default\":\"row\",\"kind\":null,\"name\":\"flex_direction\"},{\"default\":\"wrap\",\"kind\":null,\"name\":\"flex_wrap\"},{\"default\":\"flex-start\",\"kind\":null,\"name\":\"justify_content\"}]},{\"extends\":null,\"module\":null,\"name\":\"TemplateActions1\",\"overrides\":[],\"properties\":[{\"default\":0,\"kind\":null,\"name\":\"open_modal\"},{\"default\":0,\"kind\":null,\"name\":\"close_modal\"}]},{\"extends\":null,\"module\":null,\"name\":\"MaterialTemplateActions1\",\"overrides\":[],\"properties\":[{\"default\":0,\"kind\":null,\"name\":\"open_modal\"},{\"default\":0,\"kind\":null,\"name\":\"close_modal\"}]}],\"roots\":{\"references\":[{\"attributes\":{\"children\":[{\"id\":\"1609\"},{\"id\":\"1621\"},{\"id\":\"1770\"}],\"margin\":[0,0,0,0],\"name\":\"Row04164\",\"tags\":[\"embedded\"]},\"id\":\"1608\",\"type\":\"Row\"},{\"attributes\":{},\"id\":\"1626\",\"type\":\"LinearScale\"},{\"attributes\":{\"bar_line_color\":\"black\",\"color_mapper\":{\"id\":\"1684\"},\"coordinates\":null,\"group\":null,\"label_standoff\":8,\"location\":[0,0],\"major_label_policy\":{\"id\":\"1709\"},\"major_tick_line_color\":\"black\",\"ticker\":{\"id\":\"1703\"}},\"id\":\"1704\",\"type\":\"ColorBar\"},{\"attributes\":{},\"id\":\"1639\",\"type\":\"PanTool\"},{\"attributes\":{\"coordinates\":null,\"group\":null,\"level\":\"glyph\",\"tile_source\":{\"id\":\"1679\"}},\"id\":\"1682\",\"type\":\"TileRenderer\"},{\"attributes\":{\"zoom_on_axis\":false},\"id\":\"1640\",\"type\":\"WheelZoomTool\"},{\"attributes\":{},\"id\":\"1703\",\"type\":\"BasicTicker\"},{\"attributes\":{\"dimension\":\"lon\"},\"id\":\"1654\",\"type\":\"MercatorTickFormatter\"},{\"attributes\":{\"margin\":[5,5,5,5],\"name\":\"HSpacer04168\",\"sizing_mode\":\"stretch_width\"},\"id\":\"1609\",\"type\":\"Spacer\"},{\"attributes\":{\"source\":{\"id\":\"1685\"}},\"id\":\"1694\",\"type\":\"CDSView\"},{\"attributes\":{\"callback\":null,\"formatters\":{\"$x\":{\"id\":\"1705\"},\"$y\":{\"id\":\"1706\"}},\"renderers\":[{\"id\":\"1693\"}],\"tags\":[\"hv_created\"],\"tooltips\":[[\"Longitude\",\"$x{custom}\"],[\"Latitude\",\"$y{custom}\"],[\"Unemployment Rate\",\"@{Unemployment_Rate}\"],[\"State\",\"@{State}\"]]},\"id\":\"1618\",\"type\":\"HoverTool\"},{\"attributes\":{\"attribution\":\"&copy; <a href=\\\"https://www.openstreetmap.org/copyright\\\">OpenStreetMap</a> contributors\",\"url\":\"https://c.tile.openstreetmap.org/{Z}/{X}/{Y}.png\"},\"id\":\"1679\",\"type\":\"WMTSTileSource\"},{\"attributes\":{\"tools\":[{\"id\":\"1618\"},{\"id\":\"1638\"},{\"id\":\"1639\"},{\"id\":\"1640\"},{\"id\":\"1641\"},{\"id\":\"1642\"}]},\"id\":\"1644\",\"type\":\"Toolbar\"},{\"attributes\":{\"match_aspect\":true,\"overlay\":{\"id\":\"1643\"}},\"id\":\"1641\",\"type\":\"BoxZoomTool\"},{\"attributes\":{\"data\":{\"Latitude\":{\"__ndarray__\":\"ageKZzr7TUF6zfizDg1iQSpnmZGtJE9B+Tmtzwf7T0HDDaP4gcZQQcNxfG6j3FFBvtkVXvZ8U0FfDcfLBdhRQdhpBQ3TjUhBOBQ3idAKTUFkQlJbpvlAQZXJXgzSo1RBUBeMRjWbUkFXSH1Sar5SQe6OfG2RpFNBX4ePK9idUUG05vPnTT1RQaBpNP5blktBjpvWbnffVUGP+08OfEtSQZufW9+b51NBhwTWzkegVEFfXSsLQQtWQS6rjbqisE1ByRNpHI/hUUFxgNjx1eZWQQs3Z/KgiVNBlPIJwm9LUkHOSSOS1otUQbCiTJ+mmlJBekRZXfZST0HVSERBk/VSQfZ3/6D4O1BB77Mh7zwOV0FICpMx7q9SQfUp5EypuE9Bfv6lDjfWVEH1KJsCixpTQfj+JoFCklNBiqKYwe5qTkE19rWjsDtVQe7ehRZeSVBB5k9J/T36S0Edd5nzST5SQYC3HrZXNFVBxZ/yKNr/UEHQ6inoVfRRQfR+H3z0uVFBDmQyIbQaVUEHjLTgx1xUQQ==\",\"dtype\":\"float64\",\"order\":\"little\",\"shape\":[50]},\"Longitude\":{\"__ndarray__\":\"jw1Gb6NvYsHbiEhS8MdvwfuvmNvqumfBQ3RdywahY8ErhasjAjdpwSogaKVUbGbBrC3++vfiXsHKo3y6dAJgwVClKCX+S2HBwHbCWqqlYcGZhznwK4BwwY0wmCFVNWjB6NTKpDD9YsGZC0dfC0xiwcB2+k0C0GPBGyos3HTuZMGPBUNeoBRiwYswTU0RiWPBaqZ1w7E9XcHeDnhA/lVgwZu3cJOrll7Bczn2r+76YcHe0j+enhZkwSDszLiODWPBejGlYTenY8GW3TZTcEdnwbwifhMYJWXBS3wQHZzPaMH9T0yjsG1ewdZ7vFyCmF/BDvIj8kWBZsGCfV/7OW1fwU9UQ7cyyGDBx8Cy9OlYZcEMWq4yiI5hwYD0tK4Lp2TBHC8CP7OiacG1ib+L6oBgwQ4mFaiVZ17BVoFOByMUYcEJfT2fek5lwfEdmqbgUWLBNwK06XfsZMEIqEwuQrhnwUcwVgeJyV7BBtp57X2qYMEnOpaWVltgwX9d9CkfKmHBvt59QwkLY8FjrsRN6dZmwQ==\",\"dtype\":\"float64\",\"order\":\"little\",\"shape\":[50]},\"State\":[\"Alabama\",\"Alaska\",\"Arizona\",\"Arkansas\",\"California\",\"Colorado\",\"Connecticut\",\"Delaware\",\"Florida\",\"Georgia\",\"Hawaii\",\"Idaho\",\"Illinois\",\"Indiana\",\"Iowa\",\"Kansas\",\"Kentucky\",\"Louisiana\",\"Maine\",\"Maryland\",\"Massachusetts\",\"Michigan\",\"Minnesota\",\"Mississippi\",\"Missouri\",\"Montana\",\"Nebraska\",\"Nevada\",\"New Hampshire\",\"New Jersey\",\"New Mexico\",\"New York\",\"North Carolina\",\"North Dakota\",\"Ohio\",\"Oklahoma\",\"Oregon\",\"Pennsylvania\",\"Rhode Island\",\"South Carolina\",\"South Dakota\",\"Tennessee\",\"Texas\",\"Utah\",\"Vermont\",\"Virginia\",\"Washington\",\"West Virginia\",\"Wisconsin\",\"Wyoming\"],\"Unemployment_Rate\":{\"__ndarray__\":\"Z2ZmZmZmCUBnZmZmZuYVQN7d3d3dXRNAvLu7u7u7C0Dv7u7u7m4QQM3MzMzMzARAMzMzMzMzDECZmZmZmZkNQN3d3d3d3QlAzMzMzMzMDECZmZmZmZkDQLy7u7u7uwdAq6qqqqqqD0AjIiIiIiIKQN7d3d3d3QRA7+7u7u7uCEBEREREREQQQJmZmZmZmRJAMzMzMzMzBkCZmZmZmZkLQHh3d3d3dwhAZ2ZmZmZmEECIiIiIiIgLQERERERExBVA3d3d3d3dCECrqqqqqqoMQFVVVVVVVQhAEREREREREEDNzMzMzMwEQBEREREREQtARERERETEE0CrqqqqqqoOQLy7u7u7uw5AIiIiIiIiAUCamZmZmZkQQBEREREREQlAiYiIiIiIDUDe3d3d3d0RQGZmZmZmZgxAVVVVVVVVBkCJiIiIiIgGQCIiIiIiIgtAREREREREDECJiIiIiIgEQM3MzMzMzAJAAAAAAAAABkAzMzMzMzMRQLy7u7u7uxNAZmZmZmZmCUDe3d3d3d0NQA==\",\"dtype\":\"float64\",\"order\":\"little\",\"shape\":[50]},\"color\":{\"__ndarray__\":\"Z2ZmZmZmCUBnZmZmZuYVQN7d3d3dXRNAvLu7u7u7C0Dv7u7u7m4QQM3MzMzMzARAMzMzMzMzDECZmZmZmZkNQN3d3d3d3QlAzMzMzMzMDECZmZmZmZkDQLy7u7u7uwdAq6qqqqqqD0AjIiIiIiIKQN7d3d3d3QRA7+7u7u7uCEBEREREREQQQJmZmZmZmRJAMzMzMzMzBkCZmZmZmZkLQHh3d3d3dwhAZ2ZmZmZmEECIiIiIiIgLQERERERExBVA3d3d3d3dCECrqqqqqqoMQFVVVVVVVQhAEREREREREEDNzMzMzMwEQBEREREREQtARERERETEE0CrqqqqqqoOQLy7u7u7uw5AIiIiIiIiAUCamZmZmZkQQBEREREREQlAiYiIiIiIDUDe3d3d3d0RQGZmZmZmZgxAVVVVVVVVBkCJiIiIiIgGQCIiIiIiIgtAREREREREDECJiIiIiIgEQM3MzMzMzAJAAAAAAAAABkAzMzMzMzMRQLy7u7u7uxNAZmZmZmZmCUDe3d3d3d0NQA==\",\"dtype\":\"float64\",\"order\":\"little\",\"shape\":[50]},\"size\":{\"__ndarray__\":\"EATFOSnyKEDxDTHdDGEwQOQVOk8ozi5AKBnIegsRKkAOqOwOa2AsQPFrIr8GkyZA99qcO/RIKkCzOosu9u0qQL/mXD6PLClA49/+cCmQKkAa8mbr2OklQK1zSzIWHShAalK1pZHaK0D/GVaZsU0pQCtUhrtHnCZAYoOmOjm3KECn+hOLfDssQAJeLah8MC5Ak0owjlhSJ0CJVvsK/AAqQNVEj1y7eyhAiKolAQxZLEAe67OZ8PgpQNwRWTtEVDBAIR4SUMKuKEBU53wKZ4AqQH4+0lihaihA40+a9eoOLEDxayK/BpMmQIC41yJawClAwa5Jhy4fL0D5tfPsE2krQH4QmXGzcCtAclXpMvt8JEDcbve/KYUsQGh4ZmMeyChAQ1rznDHmKkCHmcvomZYtQCSOjf7FYCpADRH6fz9kJ0D/zoZXAH8nQLKpIjx3yClAPmAtN+dQKkDD+bOf3G0mQF/llv8qdiVATsF9QWQ3J0B9JuvJ8ActQBkO6xJ2GC9AEATFOSnyKED6RpMm8gwrQA==\",\"dtype\":\"float64\",\"order\":\"little\",\"shape\":[50]}},\"selected\":{\"id\":\"1686\"},\"selection_policy\":{\"id\":\"1698\"}},\"id\":\"1685\",\"type\":\"ColumnDataSource\"},{\"attributes\":{\"code\":\"\\n        var projections = Bokeh.require(\\\"core/util/projections\\\");\\n        var x = special_vars.data_x\\n        var y = special_vars.data_y\\n        if (projections.wgs84_mercator.invert == null) {\\n          var coords = projections.wgs84_mercator.inverse([x, y])\\n        } else {\\n          var coords = projections.wgs84_mercator.invert(x, y)\\n        }\\n        return \\\"\\\" + (coords[1]).toFixed(4)\\n    \"},\"id\":\"1706\",\"type\":\"CustomJSHover\"},{\"attributes\":{\"label\":{\"value\":\"2019 Unemployment\"},\"renderers\":[{\"id\":\"1693\"}]},\"id\":\"1702\",\"type\":\"LegendItem\"},{\"attributes\":{\"end\":10187820.61950108,\"min_interval\":5,\"reset_end\":10187820.61950108,\"reset_start\":1501077.5781649803,\"start\":1501077.5781649803,\"tags\":[[[\"Latitude\",\"Latitude\",null]]]},\"id\":\"1615\",\"type\":\"Range1d\"},{\"attributes\":{\"high\":5.4750000000000005,\"low\":2.1416666666666666,\"palette\":[\"#b3fef5\",\"#b0fef5\",\"#adfdf5\",\"#a9fcf5\",\"#a6fbf6\",\"#a3faf6\",\"#a0faf6\",\"#9df9f6\",\"#9af8f6\",\"#97f7f6\",\"#93f7f6\",\"#90f6f6\",\"#8df5f6\",\"#8af4f7\",\"#87f3f7\",\"#83f2f7\",\"#80f2f7\",\"#7df1f7\",\"#79f0f7\",\"#76eff7\",\"#73eef7\",\"#6fedf8\",\"#6cecf8\",\"#68ecf8\",\"#65ebf8\",\"#61eaf8\",\"#5ee9f8\",\"#5ae8f8\",\"#57e7f8\",\"#53e6f8\",\"#50e5f9\",\"#4ce4f9\",\"#49e3f9\",\"#45e2f9\",\"#42e1f9\",\"#3ee0f9\",\"#3bdff9\",\"#38def9\",\"#35ddf9\",\"#32dcf9\",\"#30dbfa\",\"#2ed9fa\",\"#2dd8fa\",\"#2cd7fa\",\"#2bd6fa\",\"#2bd5fa\",\"#2ad3fa\",\"#2ad2fa\",\"#29d1fa\",\"#29d0fb\",\"#29cffb\",\"#28cdfb\",\"#28ccfb\",\"#28cbfb\",\"#28cafb\",\"#28c8fb\",\"#28c7fb\",\"#29c6fb\",\"#29c5fb\",\"#29c4fb\",\"#29c2fb\",\"#2ac1fb\",\"#2ac0fb\",\"#2bbffb\",\"#2bbdfc\",\"#2cbcfc\",\"#2dbbfc\",\"#2db9fc\",\"#2eb8fc\",\"#2fb7fc\",\"#2fb6fc\",\"#30b4fc\",\"#31b3fc\",\"#32b2fc\",\"#32b0fc\",\"#33affc\",\"#33aefc\",\"#34adfc\",\"#34abfc\",\"#34aafc\",\"#35a9fc\",\"#35a8fc\",\"#35a6fc\",\"#35a5fc\",\"#35a4fc\",\"#35a3fc\",\"#35a1fc\",\"#35a0fc\",\"#359ffc\",\"#359dfc\",\"#359cfc\",\"#359bfc\",\"#349afd\",\"#3498fd\",\"#3497fd\",\"#3396fd\",\"#3395fd\",\"#3293fd\",\"#3292fd\",\"#3191fd\",\"#3090fd\",\"#308ffd\",\"#2f8dfd\",\"#2f8cfd\",\"#2e8bfd\",\"#2e8afd\",\"#2d88fd\",\"#2d87fd\",\"#2c86fd\",\"#2c84fd\",\"#2c83fd\",\"#2c82fd\",\"#2b81fd\",\"#2b7ffd\",\"#2b7efd\",\"#2b7dfd\",\"#2b7bfd\",\"#2b7afd\",\"#2b79fd\",\"#2b77fd\",\"#2b76fd\",\"#2b75fd\",\"#2b73fd\",\"#2c72fd\",\"#2c71fd\",\"#2c6ffd\",\"#2c6efd\",\"#2d6cfd\",\"#2d6bfd\",\"#2d6afc\",\"#2e68fc\",\"#2e67fc\",\"#2e65fc\",\"#2e64fc\",\"#2f62fc\",\"#2f61fc\",\"#2f5ffc\",\"#2f5efc\",\"#2f5dfc\",\"#2f5bfc\",\"#2f5afc\",\"#2f58fb\",\"#2f57fb\",\"#2f55fb\",\"#2f53fb\",\"#2f52fb\",\"#2f50fb\",\"#2f4ffb\",\"#2f4dfb\",\"#2e4cfb\",\"#2e4afb\",\"#2e48fb\",\"#2e47fa\",\"#2d45fa\",\"#2d43fa\",\"#2d42fa\",\"#2d40fa\",\"#2c3efa\",\"#2c3dfa\",\"#2b3bf9\",\"#2b39f9\",\"#2a37f9\",\"#2a36f8\",\"#2934f8\",\"#2832f7\",\"#2831f7\",\"#272ff6\",\"#262ef5\",\"#252cf5\",\"#252af4\",\"#2429f3\",\"#2327f2\",\"#2226f1\",\"#2124f0\",\"#2023ef\",\"#1f22ee\",\"#1e20ed\",\"#1d1feb\",\"#1c1eea\",\"#1b1ce9\",\"#1a1be7\",\"#181ae6\",\"#1719e5\",\"#1618e3\",\"#1417e1\",\"#1316e0\",\"#1215de\",\"#1014dc\",\"#0f13db\",\"#0e12d9\",\"#0d11d7\",\"#0c10d5\",\"#0b0fd3\",\"#0a0ed1\",\"#090dd0\",\"#080dce\",\"#080ccc\",\"#070bca\",\"#070ac8\",\"#0709c6\",\"#0708c4\",\"#0707c2\",\"#0707bf\",\"#0806bd\",\"#0806bb\",\"#0905b9\",\"#0904b7\",\"#0a04b5\",\"#0a04b2\",\"#0b03b0\",\"#0c03ae\",\"#0d02ab\",\"#0e02a9\",\"#0e02a7\",\"#0f02a4\",\"#0f01a2\",\"#1001a0\",\"#10019d\",\"#10019b\",\"#100199\",\"#100197\",\"#100194\",\"#0f0192\",\"#0f0190\",\"#0f018e\",\"#0e018b\",\"#0e0189\",\"#0d0187\",\"#0d0185\",\"#0c0183\",\"#0b0181\",\"#0b017e\",\"#0a017c\",\"#09017a\",\"#090178\",\"#080276\",\"#070274\",\"#060272\",\"#060270\",\"#05026e\",\"#04026c\",\"#030269\",\"#030267\",\"#020265\",\"#010263\",\"#010261\",\"#00025f\",\"#00025d\",\"#00025b\",\"#000259\",\"#000257\",\"#000255\",\"#000154\",\"#000152\",\"#000150\",\"#00004e\"]},\"id\":\"1684\",\"type\":\"LinearColorMapper\"},{\"attributes\":{},\"id\":\"1666\",\"type\":\"AllLabels\"},{\"attributes\":{},\"id\":\"1642\",\"type\":\"ResetTool\"},{\"attributes\":{\"below\":[{\"id\":\"1630\"}],\"center\":[{\"id\":\"1633\"},{\"id\":\"1637\"}],\"frame_height\":500,\"frame_width\":700,\"height\":null,\"left\":[{\"id\":\"1634\"}],\"margin\":[5,5,5,5],\"match_aspect\":true,\"min_border_bottom\":10,\"min_border_left\":10,\"min_border_right\":10,\"min_border_top\":10,\"renderers\":[{\"id\":\"1682\"},{\"id\":\"1693\"}],\"right\":[{\"id\":\"1704\"},{\"id\":\"1701\"}],\"sizing_mode\":\"fixed\",\"title\":{\"id\":\"1622\"},\"toolbar\":{\"id\":\"1644\"},\"width\":null,\"x_range\":{\"id\":\"1614\"},\"x_scale\":{\"id\":\"1626\"},\"y_range\":{\"id\":\"1615\"},\"y_scale\":{\"id\":\"1628\"}},\"id\":\"1621\",\"subtype\":\"Figure\",\"type\":\"Plot\"},{\"attributes\":{\"fill_alpha\":{\"value\":0.2},\"fill_color\":{\"field\":\"color\",\"transform\":{\"id\":\"1684\"}},\"hatch_alpha\":{\"value\":0.2},\"hatch_color\":{\"field\":\"color\",\"transform\":{\"id\":\"1684\"}},\"line_alpha\":{\"value\":0.2},\"line_color\":{\"field\":\"color\",\"transform\":{\"id\":\"1684\"}},\"size\":{\"field\":\"size\"},\"x\":{\"field\":\"Longitude\"},\"y\":{\"field\":\"Latitude\"}},\"id\":\"1692\",\"type\":\"Scatter\"},{\"attributes\":{},\"id\":\"1628\",\"type\":\"LinearScale\"},{\"attributes\":{\"fill_alpha\":{\"value\":0.1},\"fill_color\":{\"field\":\"color\",\"transform\":{\"id\":\"1684\"}},\"hatch_alpha\":{\"value\":0.1},\"hatch_color\":{\"field\":\"color\",\"transform\":{\"id\":\"1684\"}},\"line_alpha\":{\"value\":0.1},\"line_color\":{\"field\":\"color\",\"transform\":{\"id\":\"1684\"}},\"size\":{\"field\":\"size\"},\"x\":{\"field\":\"Longitude\"},\"y\":{\"field\":\"Latitude\"}},\"id\":\"1689\",\"type\":\"Scatter\"},{\"attributes\":{\"bottom_units\":\"screen\",\"coordinates\":null,\"fill_alpha\":0.5,\"fill_color\":\"lightgrey\",\"group\":null,\"left_units\":\"screen\",\"level\":\"overlay\",\"line_alpha\":1.0,\"line_color\":\"black\",\"line_dash\":[4,4],\"line_width\":2,\"right_units\":\"screen\",\"syncable\":false,\"top_units\":\"screen\"},\"id\":\"1643\",\"type\":\"BoxAnnotation\"},{\"attributes\":{\"axis_label\":\"Longitude\",\"coordinates\":null,\"formatter\":{\"id\":\"1654\"},\"group\":null,\"major_label_policy\":{\"id\":\"1659\"},\"ticker\":{\"id\":\"1653\"}},\"id\":\"1630\",\"type\":\"LinearAxis\"},{\"attributes\":{\"axis\":{\"id\":\"1634\"},\"coordinates\":null,\"dimension\":1,\"grid_line_color\":null,\"group\":null,\"ticker\":null},\"id\":\"1637\",\"type\":\"Grid\"},{\"attributes\":{\"fill_color\":{\"field\":\"color\",\"transform\":{\"id\":\"1684\"}},\"hatch_color\":{\"field\":\"color\",\"transform\":{\"id\":\"1684\"}},\"line_color\":{\"field\":\"color\",\"transform\":{\"id\":\"1684\"}},\"size\":{\"field\":\"size\"},\"x\":{\"field\":\"Longitude\"},\"y\":{\"field\":\"Latitude\"}},\"id\":\"1691\",\"type\":\"Scatter\"},{\"attributes\":{},\"id\":\"1709\",\"type\":\"NoOverlap\"},{\"attributes\":{\"axis\":{\"id\":\"1630\"},\"coordinates\":null,\"grid_line_color\":null,\"group\":null,\"ticker\":null},\"id\":\"1633\",\"type\":\"Grid\"},{\"attributes\":{},\"id\":\"1698\",\"type\":\"UnionRenderers\"},{\"attributes\":{\"axis_label\":\"Latitude\",\"coordinates\":null,\"formatter\":{\"id\":\"1656\"},\"group\":null,\"major_label_policy\":{\"id\":\"1666\"},\"ticker\":{\"id\":\"1655\"}},\"id\":\"1634\",\"type\":\"LinearAxis\"},{\"attributes\":{\"margin\":[5,5,5,5],\"name\":\"HSpacer04169\",\"sizing_mode\":\"stretch_width\"},\"id\":\"1770\",\"type\":\"Spacer\"},{\"attributes\":{\"coordinates\":null,\"data_source\":{\"id\":\"1685\"},\"glyph\":{\"id\":\"1688\"},\"group\":null,\"hover_glyph\":{\"id\":\"1691\"},\"muted_glyph\":{\"id\":\"1692\"},\"nonselection_glyph\":{\"id\":\"1689\"},\"selection_glyph\":{\"id\":\"1690\"},\"view\":{\"id\":\"1694\"}},\"id\":\"1693\",\"type\":\"GlyphRenderer\"},{\"attributes\":{\"coordinates\":null,\"group\":null,\"text_color\":\"black\",\"text_font_size\":\"12pt\"},\"id\":\"1622\",\"type\":\"Title\"},{\"attributes\":{},\"id\":\"1659\",\"type\":\"AllLabels\"},{\"attributes\":{\"dimension\":\"lat\"},\"id\":\"1655\",\"type\":\"MercatorTicker\"},{\"attributes\":{\"click_policy\":\"mute\",\"coordinates\":null,\"group\":null,\"items\":[{\"id\":\"1702\"}],\"location\":[0,0]},\"id\":\"1701\",\"type\":\"Legend\"},{\"attributes\":{\"end\":-6403058.905115285,\"min_interval\":5,\"reset_end\":-6403058.905115285,\"reset_start\":-18564499.162985824,\"start\":-18564499.162985824,\"tags\":[[[\"Longitude\",\"Longitude\",null]]]},\"id\":\"1614\",\"type\":\"Range1d\"},{\"attributes\":{\"dimension\":\"lon\"},\"id\":\"1653\",\"type\":\"MercatorTicker\"},{\"attributes\":{\"code\":\"\\n        var projections = Bokeh.require(\\\"core/util/projections\\\");\\n        var x = special_vars.data_x\\n        var y = special_vars.data_y\\n        if (projections.wgs84_mercator.invert == null) {\\n          var coords = projections.wgs84_mercator.inverse([x, y])\\n        } else {\\n          var coords = projections.wgs84_mercator.invert(x, y)\\n        }\\n        return \\\"\\\" + (coords[0]).toFixed(4)\\n    \"},\"id\":\"1705\",\"type\":\"CustomJSHover\"},{\"attributes\":{\"fill_color\":{\"field\":\"color\",\"transform\":{\"id\":\"1684\"}},\"hatch_color\":{\"field\":\"color\",\"transform\":{\"id\":\"1684\"}},\"line_color\":{\"field\":\"color\",\"transform\":{\"id\":\"1684\"}},\"size\":{\"field\":\"size\"},\"x\":{\"field\":\"Longitude\"},\"y\":{\"field\":\"Latitude\"}},\"id\":\"1690\",\"type\":\"Scatter\"},{\"attributes\":{\"dimension\":\"lat\"},\"id\":\"1656\",\"type\":\"MercatorTickFormatter\"},{\"attributes\":{\"fill_color\":{\"field\":\"color\",\"transform\":{\"id\":\"1684\"}},\"hatch_color\":{\"field\":\"color\",\"transform\":{\"id\":\"1684\"}},\"line_color\":{\"field\":\"color\",\"transform\":{\"id\":\"1684\"}},\"size\":{\"field\":\"size\"},\"x\":{\"field\":\"Longitude\"},\"y\":{\"field\":\"Latitude\"}},\"id\":\"1688\",\"type\":\"Scatter\"},{\"attributes\":{},\"id\":\"1686\",\"type\":\"Selection\"},{\"attributes\":{},\"id\":\"1638\",\"type\":\"SaveTool\"}],\"root_ids\":[\"1608\"]},\"title\":\"Bokeh Application\",\"version\":\"2.4.2\"}};\n",
       "    var render_items = [{\"docid\":\"244c0e6e-1ac1-443c-b599-0135a4476440\",\"root_ids\":[\"1608\"],\"roots\":{\"1608\":\"ee29839f-b5ca-4565-856d-cb1c071d293e\"}}];\n",
       "    root.Bokeh.embed.embed_items_notebook(docs_json, render_items);\n",
       "  }\n",
       "  if (root.Bokeh !== undefined && root.Bokeh.Panel !== undefined) {\n",
       "    embed_document(root);\n",
       "  } else {\n",
       "    var attempts = 0;\n",
       "    var timer = setInterval(function(root) {\n",
       "      if (root.Bokeh !== undefined && root.Bokeh.Panel !== undefined) {\n",
       "        clearInterval(timer);\n",
       "        embed_document(root);\n",
       "      } else if (document.readyState == \"complete\") {\n",
       "        attempts++;\n",
       "        if (attempts > 200) {\n",
       "          clearInterval(timer);\n",
       "          console.log(\"Bokeh: ERROR: Unable to run BokehJS code because BokehJS library is missing\");\n",
       "        }\n",
       "      }\n",
       "    }, 25, root)\n",
       "  }\n",
       "})(window);</script>"
      ],
      "text/plain": [
       ":Overlay\n",
       "   .Tiles.I                    :Tiles   [x,y]\n",
       "   .Points.A_2019_Unemployment :Points   [Longitude,Latitude]   (Unemployment Rate,State)"
      ]
     },
     "execution_count": 11,
     "metadata": {
      "application/vnd.holoviews_exec.v0+json": {
       "id": "1608"
      }
     },
     "output_type": "execute_result"
    }
   ],
   "source": [
    "coordinates.hvplot.points(\n",
    "    x='Longitude', \n",
    "    y='Latitude',\n",
    "    xlabel='Longitude',\n",
    "    ylabel='Latitude',\n",
    "    geo=True, \n",
    "    tiles='OSM', \n",
    "    frame_width=700, \n",
    "    frame_height=500,\n",
    "    label='2019 Unemployment',\n",
    "    hover_cols=['State','Unemployment Rate'],\n",
    "    size='Unemployment Rate',\n",
    "    color= 'Unemployment Rate',\n",
    "    scale=7\n",
    ")"
   ]
  },
  {
   "cell_type": "code",
   "execution_count": 18,
   "metadata": {},
   "outputs": [
    {
     "data": {
      "text/html": [
       "<div style=\"width:100%;\"><div style=\"position:relative;width:100%;height:0;padding-bottom:60%;\"><span style=\"color:#565656\">Make this Notebook Trusted to load map: File -> Trust Notebook</span><iframe srcdoc=\"&lt;!DOCTYPE html&gt;\n",
       "&lt;head&gt;    \n",
       "    &lt;meta http-equiv=&quot;content-type&quot; content=&quot;text/html; charset=UTF-8&quot; /&gt;\n",
       "    \n",
       "        &lt;script&gt;\n",
       "            L_NO_TOUCH = false;\n",
       "            L_DISABLE_3D = false;\n",
       "        &lt;/script&gt;\n",
       "    \n",
       "    &lt;style&gt;html, body {width: 100%;height: 100%;margin: 0;padding: 0;}&lt;/style&gt;\n",
       "    &lt;style&gt;#map {position:absolute;top:0;bottom:0;right:0;left:0;}&lt;/style&gt;\n",
       "    &lt;script src=&quot;https://cdn.jsdelivr.net/npm/leaflet@1.6.0/dist/leaflet.js&quot;&gt;&lt;/script&gt;\n",
       "    &lt;script src=&quot;https://code.jquery.com/jquery-1.12.4.min.js&quot;&gt;&lt;/script&gt;\n",
       "    &lt;script src=&quot;https://maxcdn.bootstrapcdn.com/bootstrap/3.2.0/js/bootstrap.min.js&quot;&gt;&lt;/script&gt;\n",
       "    &lt;script src=&quot;https://cdnjs.cloudflare.com/ajax/libs/Leaflet.awesome-markers/2.0.2/leaflet.awesome-markers.js&quot;&gt;&lt;/script&gt;\n",
       "    &lt;link rel=&quot;stylesheet&quot; href=&quot;https://cdn.jsdelivr.net/npm/leaflet@1.6.0/dist/leaflet.css&quot;/&gt;\n",
       "    &lt;link rel=&quot;stylesheet&quot; href=&quot;https://maxcdn.bootstrapcdn.com/bootstrap/3.2.0/css/bootstrap.min.css&quot;/&gt;\n",
       "    &lt;link rel=&quot;stylesheet&quot; href=&quot;https://maxcdn.bootstrapcdn.com/bootstrap/3.2.0/css/bootstrap-theme.min.css&quot;/&gt;\n",
       "    &lt;link rel=&quot;stylesheet&quot; href=&quot;https://maxcdn.bootstrapcdn.com/font-awesome/4.6.3/css/font-awesome.min.css&quot;/&gt;\n",
       "    &lt;link rel=&quot;stylesheet&quot; href=&quot;https://cdnjs.cloudflare.com/ajax/libs/Leaflet.awesome-markers/2.0.2/leaflet.awesome-markers.css&quot;/&gt;\n",
       "    &lt;link rel=&quot;stylesheet&quot; href=&quot;https://cdn.jsdelivr.net/gh/python-visualization/folium/folium/templates/leaflet.awesome.rotate.min.css&quot;/&gt;\n",
       "    \n",
       "            &lt;meta name=&quot;viewport&quot; content=&quot;width=device-width,\n",
       "                initial-scale=1.0, maximum-scale=1.0, user-scalable=no&quot; /&gt;\n",
       "            &lt;style&gt;\n",
       "                #map_bc85aed7d98492258f0516a5292d6f77 {\n",
       "                    position: relative;\n",
       "                    width: 100.0%;\n",
       "                    height: 100.0%;\n",
       "                    left: 0.0%;\n",
       "                    top: 0.0%;\n",
       "                }\n",
       "            &lt;/style&gt;\n",
       "        \n",
       "    &lt;script src=&quot;https://cdn.jsdelivr.net/gh/python-visualization/folium@master/folium/templates/leaflet_heat.min.js&quot;&gt;&lt;/script&gt;\n",
       "&lt;/head&gt;\n",
       "&lt;body&gt;    \n",
       "    \n",
       "            &lt;div class=&quot;folium-map&quot; id=&quot;map_bc85aed7d98492258f0516a5292d6f77&quot; &gt;&lt;/div&gt;\n",
       "        \n",
       "&lt;/body&gt;\n",
       "&lt;script&gt;    \n",
       "    \n",
       "            var map_bc85aed7d98492258f0516a5292d6f77 = L.map(\n",
       "                &quot;map_bc85aed7d98492258f0516a5292d6f77&quot;,\n",
       "                {\n",
       "                    center: [39.371391380000006, -92.7304290339434],\n",
       "                    crs: L.CRS.EPSG3857,\n",
       "                    zoom: 14.5,\n",
       "                    zoomControl: true,\n",
       "                    preferCanvas: false,\n",
       "                }\n",
       "            );\n",
       "\n",
       "            \n",
       "\n",
       "        \n",
       "    \n",
       "            var tile_layer_5ceaad25737bb9f87409f008ab39f9d8 = L.tileLayer(\n",
       "                &quot;https://{s}.tile.openstreetmap.org/{z}/{x}/{y}.png&quot;,\n",
       "                {&quot;attribution&quot;: &quot;Data by \\u0026copy; \\u003ca href=\\&quot;http://openstreetmap.org\\&quot;\\u003eOpenStreetMap\\u003c/a\\u003e, under \\u003ca href=\\&quot;http://www.openstreetmap.org/copyright\\&quot;\\u003eODbL\\u003c/a\\u003e.&quot;, &quot;detectRetina&quot;: false, &quot;maxNativeZoom&quot;: 18, &quot;maxZoom&quot;: 18, &quot;minZoom&quot;: 0, &quot;noWrap&quot;: false, &quot;opacity&quot;: 1, &quot;subdomains&quot;: &quot;abc&quot;, &quot;tms&quot;: false}\n",
       "            ).addTo(map_bc85aed7d98492258f0516a5292d6f77);\n",
       "        \n",
       "    \n",
       "            var heat_map_a65da5e89789cfe659b05eed5b4ae949 = L.heatLayer(\n",
       "                [[33.2588817, -86.8295337, 3.1750000000000003], [64.4459613, -149.680909, 5.4750000000000005], [34.395342, -111.763275, 4.841666666666667], [35.2048883, -92.4479108, 3.466666666666667], [36.7014631, -118.755997, 4.108333333333333], [38.7251776, -105.607716, 2.6], [41.6500201, -72.7342163, 3.525], [38.6920451, -75.4013315, 3.6999999999999997], [27.7567667, -81.4639835, 3.233333333333333], [32.3293809, -83.1137366, 3.5999999999999996], [19.593801499999998, -155.42837009716908, 2.4499999999999997], [43.6447642, -114.015407, 2.966666666666667], [40.0796606, -89.4337288, 3.9583333333333335], [40.3270127, -86.1746933, 3.266666666666667], [41.9216734, -93.3122705, 2.6083333333333334], [38.27312, -98.5821872, 3.1166666666666667], [37.5726028, -85.1551411, 4.066666666666666], [30.8703881, -92.007126, 4.6499999999999995], [45.709097, -68.8590201, 2.775], [39.5162234, -76.9382069, 3.4499999999999997], [42.3788774, -72.032366, 3.0583333333333336], [43.6211955, -84.6824346, 4.1000000000000005], [45.9896587, -94.6113288, 3.4416666666666664], [32.9715285, -89.7348497, 5.441666666666666], [38.7604815, -92.5617875, 3.108333333333333], [47.3752671, -109.638757, 3.5833333333333335], [41.7370229, -99.5873816, 3.0416666666666665], [39.5158825, -116.8537227, 4.016666666666667], [43.4849133, -71.6553992, 2.6], [40.0757384, -74.4041622, 3.3833333333333333], [34.5708167, -105.993007, 4.941666666666666], [40.7127281, -74.0060152, 3.8333333333333335], [35.6729639, -79.0392919, 3.841666666666667], [47.6201461, -100.540737, 2.1416666666666666], [40.2253569, -82.6881395, 4.15], [34.9550817, -97.2684063, 3.1333333333333333], [43.9792797, -120.737257, 3.691666666666667], [40.9699889, -77.7278831, 4.466666666666667], [41.7962409, -71.5992372, 3.55], [33.6874388, -80.4363743, 2.7916666666666665], [44.6471761, -100.348761, 2.816666666666667], [35.7730076, -86.2820081, 3.3916666666666666], [31.2638905, -98.5456116, 3.533333333333333], [39.4225192, -111.714358, 2.566666666666667], [44.5990718, -72.5002608, 2.35], [37.1232245, -78.4927721, 2.75], [38.8950368, -77.0365427, 4.3], [38.4758406, -80.8408415, 4.933333333333334], [44.4308975, -89.6884637, 3.175], [43.1700264, -107.568534, 3.7333333333333334]],\n",
       "                {&quot;blur&quot;: 50, &quot;maxZoom&quot;: 1, &quot;minOpacity&quot;: 0.2, &quot;radius&quot;: 50}\n",
       "            ).addTo(map_bc85aed7d98492258f0516a5292d6f77);\n",
       "        \n",
       "&lt;/script&gt;\" style=\"position:absolute;width:100%;height:100%;left:0;top:0;border:none !important;\" allowfullscreen webkitallowfullscreen mozallowfullscreen></iframe></div></div>"
      ],
      "text/plain": [
       "<folium.folium.Map at 0x7fc8ea2ca290>"
      ]
     },
     "execution_count": 18,
     "metadata": {},
     "output_type": "execute_result"
    }
   ],
   "source": [
    "meanLat = df_location['Latitude'].mean()\n",
    "meanLong = df_location['Longitude'].mean()\n",
    "mapObj = folium.Map(location=[meanLat, meanLong], zoom_start = 14.5)\n",
    "# create heatmap layer\n",
    "heatmap = HeatMap(list(zip(coordinates['Latitude'], coordinates['Longitude'], coordinates['Unemployment Rate'])), min_opacity=0.2, radius=50, blur=50, max_zoom=1)\n",
    "# add heatmap layer to base map\n",
    "heatmap.add_to(mapObj)\n",
    "mapObj\n"
   ]
  },
  {
   "cell_type": "code",
   "execution_count": null,
   "metadata": {},
   "outputs": [],
   "source": []
  }
 ],
 "metadata": {
  "interpreter": {
   "hash": "9fb7947217439b1dc1ff9712ff753ee392157952fd18f233f421b4097771f25f"
  },
  "kernelspec": {
   "display_name": "Python 3 (ipykernel)",
   "language": "python",
   "name": "python3"
  },
  "language_info": {
   "codemirror_mode": {
    "name": "ipython",
    "version": 3
   },
   "file_extension": ".py",
   "mimetype": "text/x-python",
   "name": "python",
   "nbconvert_exporter": "python",
   "pygments_lexer": "ipython3",
   "version": "3.7.11"
  }
 },
 "nbformat": 4,
 "nbformat_minor": 4
}
